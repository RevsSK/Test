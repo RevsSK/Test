{
 "cells": [
  {
   "cell_type": "markdown",
   "id": "698cb173-d31b-469b-ab36-ec6c7ba77d45",
   "metadata": {},
   "source": [
    "# Data Science Tools and Ecosystem"
   ]
  },
  {
   "cell_type": "markdown",
   "id": "3685bf00-c909-4313-b214-b7d9e9a9741c",
   "metadata": {},
   "source": [
    "In this notebook, Data Science Tools and Ecosystem are summarized."
   ]
  },
  {
   "cell_type": "markdown",
   "id": "59931932-37f7-411c-9234-c087c9381161",
   "metadata": {},
   "source": [
    "Some of the popular languages that Data Scientists use are:\n",
    "1. Python\n",
    "2. R\n",
    "3. SQL"
   ]
  },
  {
   "cell_type": "markdown",
   "id": "2d80fcc9-675b-472a-aab6-f9981b1981eb",
   "metadata": {},
   "source": [
    "Some of the commonly used libraries used by Data Scientists include:\n",
    "1. Pandas\n",
    "2. Numpy\n",
    "3. Matplolib"
   ]
  },
  {
   "cell_type": "markdown",
   "id": "2fd73ee5-f137-462f-a842-5efd5e41faec",
   "metadata": {},
   "source": [
    "|Data Science Tools|\n",
    "|------------------|\n",
    "|MySQL|\n",
    "|Apache Spark|\n",
    "|Hadoop|\n"
   ]
  },
  {
   "cell_type": "markdown",
   "id": "36db7e06-e2d7-44ac-bf05-32e8a5a333e5",
   "metadata": {},
   "source": [
    "### Below are a few examples of evaluating arithmetic expressions in Python"
   ]
  },
  {
   "cell_type": "code",
   "execution_count": 7,
   "id": "1f55622b-4a53-4e02-b86c-67b387f84163",
   "metadata": {},
   "outputs": [
    {
     "data": {
      "text/plain": [
       "17"
      ]
     },
     "execution_count": 7,
     "metadata": {},
     "output_type": "execute_result"
    }
   ],
   "source": [
    "#  This a simple arithmetic expression to mutiply then add integers\n",
    "(3*4)+5"
   ]
  },
  {
   "cell_type": "code",
   "execution_count": 8,
   "id": "bbf2ef3b-2e32-487c-be60-2f3610a8576e",
   "metadata": {},
   "outputs": [
    {
     "name": "stdout",
     "output_type": "stream",
     "text": [
      "3.3333333333333335\n"
     ]
    }
   ],
   "source": [
    "# This will convert 200 minutes to hours by diving by 60\n",
    "minutes=200\n",
    "hours=minutes/60\n",
    "print(hours)"
   ]
  },
  {
   "cell_type": "markdown",
   "id": "a7de8c51-bb74-4cf3-9f71-f2b6a6fcb600",
   "metadata": {},
   "source": [
    "**Objectives:**\n",
    "- List Popular Data Science Tools\n",
    "- List Popular Data Science Languages\n",
    "- List Popular Data Science Libraries\n",
    "- To carry out arithmetic functions"
   ]
  },
  {
   "cell_type": "markdown",
   "id": "0857edd1-6c78-4aaf-a172-a3b3d8f7cbad",
   "metadata": {},
   "source": [
    "## Author\n",
    "S K Revathi"
   ]
  },
  {
   "cell_type": "code",
   "execution_count": null,
   "id": "4e3b9394-f9f1-47eb-8016-204997c5f927",
   "metadata": {},
   "outputs": [],
   "source": []
  }
 ],
 "metadata": {
  "kernelspec": {
   "display_name": "Python 3 (ipykernel)",
   "language": "python",
   "name": "python3"
  },
  "language_info": {
   "codemirror_mode": {
    "name": "ipython",
    "version": 3
   },
   "file_extension": ".py",
   "mimetype": "text/x-python",
   "name": "python",
   "nbconvert_exporter": "python",
   "pygments_lexer": "ipython3",
   "version": "3.11.7"
  }
 },
 "nbformat": 4,
 "nbformat_minor": 5
}
